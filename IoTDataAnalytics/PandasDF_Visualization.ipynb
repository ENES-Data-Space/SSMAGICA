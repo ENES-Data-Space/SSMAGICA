{
 "cells": [
  {
   "cell_type": "markdown",
   "metadata": {},
   "source": [
    "<div>\n",
    "<img src=\"./images/Python-Logo.png\" style=\"float: left;\" width=\"150\"/>\n",
    "</div>\n",
    "<br>\n",
    "<br>\n",
    "<br>\n",
    "\n",
    "\n",
    "# DataFrame Pandas"
   ]
  },
  {
   "cell_type": "markdown",
   "metadata": {},
   "source": [
    "### How we can use `Pandas` library to perform processing and aggregation on tabular data."
   ]
  },
  {
   "cell_type": "markdown",
   "metadata": {},
   "source": [
    "- `Pandas` is a Python library widely used for statistics, especially on tabular data.\n",
    "- A **DataFrame** is a two-dimensional data structure, such as a two-dimensional array or table with rows and columns. The DataFrame is how Pandas represents a table, and `Series` is the data structure that represents a column.\n",
    "    - Each column has its own data type.\n",
    "- The library is loaded with `import pandas as pd`. The pd alias is commonly used for Pandas.\n",
    "- To read a Comma Separated Values (CSV) data file, `pd.read_csv` is used.\n",
    "    - The argument is the name of the file to read.\n",
    "    - The function assigns the result to a variable (`data`) to store the read data."
   ]
  },
  {
   "cell_type": "code",
   "execution_count": null,
   "metadata": {},
   "outputs": [],
   "source": [
    "import pandas as pd\n",
    "\n",
    "data = pd.read_csv('data/data.csv')\n",
    "data"
   ]
  },
  {
   "cell_type": "markdown",
   "metadata": {},
   "source": [
    "- Columns in a dataframe are the observed variables, rows are the observations.\n",
    "- The data file we use is stored in a `data` subdirectory, so the path to the file is `data/data.csv`.\n",
    "- If we forget to include `data/`, or if we include it but the file copy is somewhere else, we will get a runtime error ending with a line like this: `FileNotFoundError: [Errno 2] No such file or directory : 'data/data.csv'`"
   ]
  },
  {
   "cell_type": "markdown",
   "metadata": {},
   "source": [
    "<hr style=\"height:1px;border-top:1px solid #0000FF\" />"
   ]
  },
  {
   "cell_type": "markdown",
   "metadata": {},
   "source": [
    "### Use `index_col` to specify that values in a column are to be used as row headers."
   ]
  },
  {
   "cell_type": "markdown",
   "metadata": {},
   "source": [
    "- Row headers are numbers (0,1,2,...,59 in this case).\n",
    "- We want to index by `surname`.\n",
    "- To do this, we pass the column name to `read_csv` as the `index_col` parameter."
   ]
  },
  {
   "cell_type": "code",
   "execution_count": null,
   "metadata": {
    "scrolled": true
   },
   "outputs": [],
   "source": [
    "data = pd.read_csv('data/data.csv', index_col='surname')\n",
    "data"
   ]
  },
  {
   "cell_type": "code",
   "execution_count": null,
   "metadata": {},
   "outputs": [],
   "source": [
    "data = pd.read_csv('data/data.csv', index_col=['surname', 'name'])\n",
    "data"
   ]
  },
  {
   "cell_type": "markdown",
   "metadata": {},
   "source": [
    "<hr style=\"height:1px;border-top:1px solid #0000FF\" />"
   ]
  },
  {
   "cell_type": "markdown",
   "metadata": {},
   "source": [
    "### Select values within a Dataframe"
   ]
  },
  {
   "cell_type": "markdown",
   "metadata": {},
   "source": [
    "To access a value at the `[i,j]` position of a DataFrame, we have two options, depending on the meaning of `i`. Recall that a DataFrame provides an index as a way to identify table rows; a row, therefore, has a position within the table (as well as a label), which uniquely identifies its *entry* in the DataFrame."
   ]
  },
  {
   "cell_type": "markdown",
   "metadata": {},
   "source": [
    "- #### Use DataFrame.iloc[..., ...] to select values based on their position.\n",
    "    - Position can be specified by numerical index."
   ]
  },
  {
   "cell_type": "code",
   "execution_count": null,
   "metadata": {},
   "outputs": [],
   "source": [
    "import pandas as pd\n",
    "data = pd.read_csv('data/data.csv')\n",
    "data"
   ]
  },
  {
   "cell_type": "code",
   "execution_count": null,
   "metadata": {},
   "outputs": [],
   "source": [
    "data.iloc[0, 0]"
   ]
  },
  {
   "cell_type": "markdown",
   "metadata": {},
   "source": [
    "- #### Use DataFrame.loc[..., ...] to select values based on their label.\n",
    "    - You can specify the location by row and/or column name."
   ]
  },
  {
   "cell_type": "code",
   "execution_count": null,
   "metadata": {},
   "outputs": [],
   "source": [
    "data.loc[0, [\"subject\", \"mark\"]]"
   ]
  },
  {
   "cell_type": "markdown",
   "metadata": {},
   "source": [
    "- #### Use `:` alone to indicate all columns or all rows."
   ]
  },
  {
   "cell_type": "code",
   "execution_count": null,
   "metadata": {},
   "outputs": [],
   "source": [
    "data.loc[5, :]"
   ]
  },
  {
   "cell_type": "code",
   "execution_count": null,
   "metadata": {},
   "outputs": [],
   "source": [
    "data.loc[:, \"name\"]"
   ]
  },
  {
   "cell_type": "markdown",
   "metadata": {},
   "source": [
    "- #### Select multiple columns or rows using DataFrame.loc and slicing.\n",
    "    - **slicing using `loc`** is inclusive at both ends, unlike **slicing using `iloc`**, where slicing means everything up to and including the final index.\n",
    "    - The slicing result can be used in further operations."
   ]
  },
  {
   "cell_type": "code",
   "execution_count": null,
   "metadata": {},
   "outputs": [],
   "source": [
    "data.loc[1:5, 'name':'age']"
   ]
  },
  {
   "cell_type": "code",
   "execution_count": null,
   "metadata": {},
   "outputs": [],
   "source": [
    "data.loc[1:5, 'age'].max()"
   ]
  },
  {
   "cell_type": "code",
   "execution_count": null,
   "metadata": {},
   "outputs": [],
   "source": [
    "data.loc[1:5, 'age'].min()"
   ]
  },
  {
   "cell_type": "markdown",
   "metadata": {},
   "source": [
    "- #### Use comparisons to select data based on value.\n",
    "    - The comparison is applied element by element."
   ]
  },
  {
   "cell_type": "code",
   "execution_count": null,
   "metadata": {},
   "outputs": [],
   "source": [
    "# Select all records that match student 'Paolo Rossi'\n",
    "data[(data['name'] == \"Paolo\") & (data['surname'] == \"Rossi\")]"
   ]
  },
  {
   "cell_type": "code",
   "execution_count": null,
   "metadata": {},
   "outputs": [],
   "source": [
    "# Select all records whose mark is greater than 8\n",
    "data[data['mark'] > 8]"
   ]
  },
  {
   "cell_type": "code",
   "execution_count": null,
   "metadata": {},
   "outputs": [],
   "source": [
    "# Select all records with students who are at least 18 years old\n",
    "data[data['age'] >= 18]"
   ]
  },
  {
   "cell_type": "code",
   "execution_count": null,
   "metadata": {},
   "outputs": [],
   "source": [
    "# Select the first three rows of the table\n",
    "data.head(3)"
   ]
  },
  {
   "cell_type": "code",
   "execution_count": null,
   "metadata": {},
   "outputs": [],
   "source": [
    "# Select the last five rows of the table\n",
    "data.tail(5)"
   ]
  },
  {
   "cell_type": "markdown",
   "metadata": {
    "tags": []
   },
   "source": [
    "<hr style=\"height:7px;border-top:2px solid #0000FF\" />"
   ]
  },
  {
   "cell_type": "markdown",
   "metadata": {},
   "source": [
    "#### Key concepts\n",
    "\n",
    "- Use the `Pandas` library to obtain basic statistics on tabular data.\n",
    "- Use `index_col` to specify that values in a column are to be used as row headers.\n",
    "- Use `DataFrame.iloc` to select values based on their position.\n",
    "- Use `DataFrame.loc` to select values based on their label.\n",
    "- Use `:` alone to indicate all columns or all rows.\n",
    "- Select multiple columns or rows using `DataFrame.loc` and slicing.\n",
    "- Use comparisons to select data based on value."
   ]
  },
  {
   "cell_type": "markdown",
   "metadata": {
    "tags": []
   },
   "source": [
    "<hr style=\"height:7px;border-top:2px solid #0000FF\" />"
   ]
  },
  {
   "cell_type": "markdown",
   "metadata": {},
   "source": [
    "# Visualization libraries"
   ]
  },
  {
   "cell_type": "markdown",
   "metadata": {},
   "source": [
    "<div>\n",
    "<img src=\"./images/matplotlib_logo.webp\" style=\"float: left;\" width=\"250\"/>\n",
    "</div>\n",
    "<br>"
   ]
  },
  {
   "cell_type": "markdown",
   "metadata": {},
   "source": [
    "`matplotlib` is the most used graphical plotting library.\n",
    "- Pandas implicitly uses `matplotlib.pyplot` to plot the data of a dataframe.\n",
    "- This allows to make plots in a very simple and immediate way."
   ]
  },
  {
   "cell_type": "code",
   "execution_count": null,
   "metadata": {},
   "outputs": [],
   "source": [
    "student_means= data.groupby(\"subject\")[\"mark\"].mean()\n",
    "student_means.plot(kind=\"bar\")"
   ]
  },
  {
   "cell_type": "markdown",
   "metadata": {},
   "source": [
    "<hr style=\"height:1px;border-top:1px solid #0000FF\" />"
   ]
  },
  {
   "cell_type": "markdown",
   "metadata": {},
   "source": [
    "<div>\n",
    "<img src=\"./images/bokeh_logo.jpeg\" style=\"float: left;\" width=\"200\"/>\n",
    "</div>\n",
    "<br>"
   ]
  },
  {
   "cell_type": "markdown",
   "metadata": {},
   "source": [
    "`Bokeh` is a powerful Python visualization library that allows to create interactive plots, dashboards, and data applications quickly and easily.\n",
    "\n",
    "- Pandas does not implicitly use `Bokeh` to plot the data of a dataframe, so users have to explicitly import the library and call the methods to create the graphs."
   ]
  },
  {
   "cell_type": "code",
   "execution_count": null,
   "metadata": {},
   "outputs": [],
   "source": [
    "from bokeh.plotting import figure, output_notebook, show\n",
    "output_notebook()"
   ]
  },
  {
   "cell_type": "code",
   "execution_count": null,
   "metadata": {},
   "outputs": [],
   "source": [
    "# Choose metrics to plot on x and y axis\n",
    "x_data = student_means.index.to_list()\n",
    "y_data = student_means.values"
   ]
  },
  {
   "cell_type": "code",
   "execution_count": null,
   "metadata": {},
   "outputs": [],
   "source": [
    "# Create the figure and the histogram calling \"vbar\" graph type\n",
    "plot = figure(x_range=x_data)\n",
    "plot.vbar(x=x_data, bottom=0, top=y_data, width=0.5, color=\"blue\")\n",
    "show(plot)"
   ]
  },
  {
   "cell_type": "markdown",
   "metadata": {},
   "source": [
    "### Create more complex histogram with Bokeh"
   ]
  },
  {
   "cell_type": "markdown",
   "metadata": {},
   "source": [
    "- #### Select data metrics that we want to plot:"
   ]
  },
  {
   "cell_type": "code",
   "execution_count": null,
   "metadata": {},
   "outputs": [],
   "source": [
    "subjects = [\"italian\",\"english\",\"biology\"]\n",
    "students = [\"Bianchi\",\"Rossi\",\"Gallo\",\"Marino\",\"Russo\"]\n",
    "\n",
    "sel_data = data.loc[data[\"subject\"].isin(subjects)].loc[data[\"surname\"].isin(students)]\n",
    "mean_data = sel_data.groupby(['subject', 'surname'])['mark'].mean()\n",
    "\n",
    "# Build metrics to plot on x and y axis\n",
    "x_data = mean_data.index.to_list()\n",
    "y_data = mean_data.values"
   ]
  },
  {
   "cell_type": "code",
   "execution_count": null,
   "metadata": {},
   "outputs": [],
   "source": [
    "mean_data"
   ]
  },
  {
   "cell_type": "code",
   "execution_count": null,
   "metadata": {},
   "outputs": [],
   "source": [
    "from bokeh.models import ColumnDataSource, FactorRange\n",
    "from bokeh.plotting import figure, show\n",
    "from bokeh.transform import factor_cmap\n",
    "from bokeh.palettes import *\n",
    "from bokeh.models import HoverTool\n",
    "\n",
    "# Create the data source for plotting\n",
    "source = ColumnDataSource(data=dict(x=x_data, y=y_data))\n",
    "# Create the figure\n",
    "p = figure(x_range=FactorRange(*x_data), height=350, title=\"Mean mark by Subject\")\n",
    "# Create the histogram\n",
    "p.vbar(x='x', top='y', width=0.9, source=source, fill_color=factor_cmap('x', palette=Pastel1[9], factors=students, start=1, end=12))\n",
    "# Add tooltips \n",
    "p.add_tools(HoverTool(tooltips=[(\"subject,student\",\"@x\"), (\"mean mark\", \"@y\")]))\n",
    "# Custom graph properties for better visualization\n",
    "p.x_range.range_padding = 0.1\n",
    "p.xaxis.major_label_orientation = 1\n",
    "# Show the result\n",
    "show(p)"
   ]
  },
  {
   "cell_type": "markdown",
   "metadata": {},
   "source": [
    "<hr style=\"height:1px;border-top:1px solid #0000FF\" />"
   ]
  },
  {
   "cell_type": "markdown",
   "metadata": {},
   "source": [
    "Next: [**TreeTalker Demo**](TreeTalkerDemo.ipynb)"
   ]
  }
 ],
 "metadata": {
  "kernelspec": {
   "display_name": "Python 3 (ipykernel)",
   "language": "python",
   "name": "python3"
  },
  "language_info": {
   "codemirror_mode": {
    "name": "ipython",
    "version": 3
   },
   "file_extension": ".py",
   "mimetype": "text/x-python",
   "name": "python",
   "nbconvert_exporter": "python",
   "pygments_lexer": "ipython3",
   "version": "3.10.6"
  }
 },
 "nbformat": 4,
 "nbformat_minor": 4
}
