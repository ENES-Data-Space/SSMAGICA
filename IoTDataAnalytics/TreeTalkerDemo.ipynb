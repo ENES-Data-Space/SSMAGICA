{
 "cells": [
  {
   "cell_type": "markdown",
   "metadata": {},
   "source": [
    "# <h1><center><font color='green'>**IoT data manipulation and visualisation for olive trees monitoring**</font></center></h1>\n",
    "<div class=\"container\" style=\"display: flex; align-items: center; justify-content: center\">\n",
    "    <div class=\"image\">\n",
    "        <img src=\"./images/IoT_image.png\" style=\"float: left;\" width=\"800\"/>\n",
    "    </div>\n",
    "    <div class=\"text\" style=\"padding-left: 50px;\">\n",
    "        <p> This notebook aims to mainipulate and visualise data coming from TreeTalker sensors installed on trees in two olive fields located in Mesagne and Avetrana in Apulia region.\n",
    "        </p>\n",
    "        <p>\n",
    "            Pandas is a powerful and easy to use Python library used for data manipulation.\n",
    "        </p>\n",
    "    </div>\n",
    "</div>"
   ]
  },
  {
   "cell_type": "markdown",
   "metadata": {
    "id": "cmbe5ERUV4TL"
   },
   "source": [
    "<hr style=\"height:1px;border-top:1px solid #0000FF\" />"
   ]
  },
  {
   "cell_type": "markdown",
   "metadata": {
    "id": "vhhodNqNc6Bu"
   },
   "source": [
    "In the following cell, the `Pandas` and `System` libraries required to access and process data are imported into the notebook. </br>\n",
    "Then, the path to the folder `MAGICASummerSchool` is specified."
   ]
  },
  {
   "cell_type": "code",
   "execution_count": null,
   "metadata": {
    "executionInfo": {
     "elapsed": 686,
     "status": "ok",
     "timestamp": 1687768329030,
     "user": {
      "displayName": "Valentina Scardigno",
      "userId": "16459297266450545011"
     },
     "user_tz": -120
    },
    "id": "rRVLGv0MV4TM"
   },
   "outputs": [],
   "source": [
    "import pandas as pd\n",
    "import sys\n",
    "sys.path.insert(0,'.')"
   ]
  },
  {
   "cell_type": "markdown",
   "metadata": {
    "id": "ytmEQUQIdWO_"
   },
   "source": [
    "`support_libraries` contains ad-hoc functions for data visualisation: </br>\n",
    "*   `getMap` creates a map visualising the sensors position on the field\n",
    "*   `getTable` shows the data on a table\n",
    "*   `getGraph` visualises the time series of a chosen variable"
   ]
  },
  {
   "cell_type": "code",
   "execution_count": null,
   "metadata": {
    "executionInfo": {
     "elapsed": 1688,
     "status": "ok",
     "timestamp": 1687768334800,
     "user": {
      "displayName": "Valentina Scardigno",
      "userId": "16459297266450545011"
     },
     "user_tz": -120
    },
    "id": "QilEQxbBV4TN"
   },
   "outputs": [],
   "source": [
    "%%capture\n",
    "from support_libraries import getMap, getTable, reduce, getGraph"
   ]
  },
  {
   "cell_type": "markdown",
   "metadata": {
    "id": "uYyu8nSeV4TO"
   },
   "source": [
    "<hr style=\"height:1px;border-top:1px solid #0000FF\" />"
   ]
  },
  {
   "cell_type": "markdown",
   "metadata": {
    "id": "VeQu--s1V4TO"
   },
   "source": [
    "### Visualise TreeTalker Map"
   ]
  },
  {
   "cell_type": "markdown",
   "metadata": {
    "id": "Y3QXg1R52kDk"
   },
   "source": [
    "Here you can choose between the two fields (Avetrana and Mesagne) monitored by the TreeTalker sensors in Apulia region. A map will appear, after clicking on the \"View map\" button, showing the position of the sensors on the field. </br>"
   ]
  },
  {
   "cell_type": "code",
   "execution_count": null,
   "metadata": {
    "colab": {
     "base_uri": "https://localhost:8080/",
     "height": 637,
     "referenced_widgets": [
      "ae5336c38e1d4ee0a6d9492e37a6368f",
      "1d991a236e5e408a8f93fda19c2f5a47",
      "bf0f4b7f58d14e57bb8085d166e542a2",
      "31e46bfa2d1d4835be637a3e05c82136",
      "b5268b8e850e4f2c971b8a24d7553407",
      "7a6010d430994f768cfb8e17d8b492da"
     ]
    },
    "executionInfo": {
     "elapsed": 269,
     "status": "ok",
     "timestamp": 1687768338249,
     "user": {
      "displayName": "Valentina Scardigno",
      "userId": "16459297266450545011"
     },
     "user_tz": -120
    },
    "id": "vrK3EroXV4TP",
    "outputId": "11c5fbe6-0607-4887-9527-dec08aa9404c",
    "tags": []
   },
   "outputs": [],
   "source": [
    "getMap()"
   ]
  },
  {
   "cell_type": "markdown",
   "metadata": {
    "id": "RHvv3cPaV4TP"
   },
   "source": [
    "<hr style=\"height:1px;border-top:1px solid #0000FF\" />"
   ]
  },
  {
   "cell_type": "markdown",
   "metadata": {
    "id": "BxbPGFssV4TP"
   },
   "source": [
    "### Visualise TreeTalker data in a Table"
   ]
  },
  {
   "cell_type": "markdown",
   "metadata": {
    "id": "rt-MtwstV4TP"
   },
   "source": [
    "The `getTable` function gets the site name as input ('Avetrana' or 'Mesagne') and visualises a table containing all the variables values for each timestamp and TreeTalker serial number.</br>\n",
    "In the following, a detailed description of each column:\n",
    "\n",
    "*   `timestamp` --> Time of measurement detection by the sensor;\n",
    "*   `tt_serial_number` --> sensor serial number, which is a numerical code that corresponds to the TreeTalker identifier;\n",
    "*   `air_temperature` --> air temperature near the sensor;\n",
    "*   `air_humidity` --> air humidity near the sensor;\n",
    "*   `sapflow` --> an indicator of fluid movement in tree stems;\n",
    "*   `growth_rate` --> measurement of the increase in tree trunk diameter;\n",
    "*   `VPD` *(Vapour Pressure Deficit)* --> an indicator of air dryness and likely subsequent leaf dehydration;\n",
    "*   `NDVI` *(Normalized Difference Vegetation Index)* --> a biomass-related indicator used to assess the level of vigor and vitality of the tree;\n",
    "*   `NPP` *(Net Primary Productivity)* --> an indicator obtained as the difference between the carbon from photosynthesis and the carbon released from tree respiration."
   ]
  },
  {
   "cell_type": "code",
   "execution_count": null,
   "metadata": {
    "colab": {
     "base_uri": "https://localhost:8080/",
     "height": 672
    },
    "executionInfo": {
     "elapsed": 950,
     "status": "ok",
     "timestamp": 1687768368324,
     "user": {
      "displayName": "Valentina Scardigno",
      "userId": "16459297266450545011"
     },
     "user_tz": -120
    },
    "id": "LUCe6R8ZV4TQ",
    "outputId": "bf819588-e36f-409f-bdec-298b1e116ed1"
   },
   "outputs": [],
   "source": [
    "data = getTable('Avetrana')\n",
    "data"
   ]
  },
  {
   "cell_type": "markdown",
   "metadata": {
    "id": "uUEceMURV4TQ"
   },
   "source": [
    "<hr style=\"height:1px;border-top:1px solid #0000FF\" />"
   ]
  },
  {
   "cell_type": "markdown",
   "metadata": {
    "id": "RtSCvkU_V4TQ"
   },
   "source": [
    "### Data Filtering"
   ]
  },
  {
   "cell_type": "markdown",
   "metadata": {
    "id": "J0x4fCCrV4TQ"
   },
   "source": [
    "It is possible to filter data based on certain parameters. Some examples are given below:\n",
    "* `data[data[\"tt_serial_number\"] == '52070729']` --> filters the rows of the table by returning only the measurements taken by the sensor with the specified serial number;\n",
    "* `data[data[\"air_humidity\"] > 70]` --> filters the rows of the table by taking only those that have an air humidity value greater than 70%;\n",
    "* `subset = data[data[\"NDVI\"] < 0]` --> filters the rows in the table that have a negative NDVI value;\n",
    "* `data[data[\"air_temperature\"].between(20, 40)]` --> filters the rows of the table and returns only those that have a temperature value between 20°C and 40°C;\n",
    "* `data[data.index == '2021-03-10 01:00:00'][['tt_serial_number','growth_rate']]` --> filters the rows and columns returning only those sensors and growth rates that have a specified timestamp;\n",
    "* `data[data.index.year == 2021]` --> returns only values for the year 2021."
   ]
  },
  {
   "cell_type": "code",
   "execution_count": null,
   "metadata": {
    "colab": {
     "base_uri": "https://localhost:8080/",
     "height": 672
    },
    "executionInfo": {
     "elapsed": 417,
     "status": "ok",
     "timestamp": 1687768381607,
     "user": {
      "displayName": "Valentina Scardigno",
      "userId": "16459297266450545011"
     },
     "user_tz": -120
    },
    "id": "N1Bu2s0vV4TR",
    "outputId": "0388ccce-2e38-43cf-ef8d-f19982236334"
   },
   "outputs": [],
   "source": [
    "subset = data[data['tt_serial_number'] == '52070729']\n",
    "# subset = data[data['air_humidity'] > 70]\n",
    "# subset = data[data['NDVI'] < 0]\n",
    "# subset = data[data['air_temperature'].between(20, 40)]\n",
    "# subset = data[data.index == '2021-03-10 01:00:00'][['tt_serial_number','growth_rate']]\n",
    "# subset = data[data.index.year == 2021]\n",
    "subset"
   ]
  },
  {
   "cell_type": "markdown",
   "metadata": {
    "id": "56y16ggeV4TR"
   },
   "source": [
    "<hr style=\"height:1px;border-top:1px solid #0000FF\" />"
   ]
  },
  {
   "cell_type": "markdown",
   "metadata": {
    "id": "pR5lzbYsV4TR"
   },
   "source": [
    "### Data Plotting"
   ]
  },
  {
   "cell_type": "markdown",
   "metadata": {
    "id": "AxKXiQDzV4TR"
   },
   "source": [
    "`matplotlib` is the most used graphical plotting library.\n",
    "- Pandas implicitly uses `matplotlib.pyplot` to plot the data of a dataframe.\n",
    "- This allows to make plots in a very simple and immediate way."
   ]
  },
  {
   "cell_type": "code",
   "execution_count": null,
   "metadata": {
    "colab": {
     "base_uri": "https://localhost:8080/",
     "height": 462
    },
    "executionInfo": {
     "elapsed": 1215,
     "status": "ok",
     "timestamp": 1687768386085,
     "user": {
      "displayName": "Valentina Scardigno",
      "userId": "16459297266450545011"
     },
     "user_tz": -120
    },
    "id": "U1a2ODhvV4TR",
    "outputId": "bafb727d-a1dc-4528-b424-2976fa93c444"
   },
   "outputs": [],
   "source": [
    "data[(data.index.year == 2021) & (data.index.month == 10)]['air_temperature'].plot()"
   ]
  },
  {
   "cell_type": "markdown",
   "metadata": {
    "id": "LqPMD98AV4TR"
   },
   "source": [
    "Many plot styles are available in `matplotlib`."
   ]
  },
  {
   "cell_type": "code",
   "execution_count": null,
   "metadata": {
    "colab": {
     "base_uri": "https://localhost:8080/",
     "height": 603
    },
    "executionInfo": {
     "elapsed": 876,
     "status": "ok",
     "timestamp": 1687768389775,
     "user": {
      "displayName": "Valentina Scardigno",
      "userId": "16459297266450545011"
     },
     "user_tz": -120
    },
    "id": "2FbwHdrbV4TR",
    "outputId": "9c43bd4a-e71d-4eef-a642-d148706542d8"
   },
   "outputs": [],
   "source": [
    "import matplotlib.pyplot as plt\n",
    "import datetime\n",
    "\n",
    "plt.style.use('ggplot')\n",
    "data[data['tt_serial_number'] == '52070729']\n",
    "subset = data[(data['tt_serial_number'] == '52070729')&(data.index.date == datetime.date(2021, 3, 10))]['NDVI']\n",
    "subset.plot(kind='bar')\n",
    "plt.ylabel('NDVI')"
   ]
  },
  {
   "cell_type": "markdown",
   "metadata": {
    "id": "kb71DVbjV4TR"
   },
   "source": [
    "You can also graph many datasets together."
   ]
  },
  {
   "cell_type": "code",
   "execution_count": null,
   "metadata": {
    "colab": {
     "base_uri": "https://localhost:8080/",
     "height": 447
    },
    "executionInfo": {
     "elapsed": 786,
     "status": "ok",
     "timestamp": 1687768393067,
     "user": {
      "displayName": "Valentina Scardigno",
      "userId": "16459297266450545011"
     },
     "user_tz": -120
    },
    "id": "AaTq6GiKV4TR",
    "outputId": "f999cc10-41f5-493a-dfae-a5eb6bbafba8"
   },
   "outputs": [],
   "source": [
    "# Select data coming from two different sensors.\n",
    "subset_vpd = data[data['tt_serial_number'] == '52070725'].loc['2021-03-10 10:00:00':'2021-03-10 17:00:00']['VPD']\n",
    "subset_ndvi = data[data['tt_serial_number'] == '52070729'].loc['2021-03-10 10:00:00':'2021-03-10 17:00:00']['VPD']\n",
    "\n",
    "# Trace the graph using different colored markers.\n",
    "plt.plot(subset_vpd, 'b-', label='VPD_52070725')\n",
    "plt.plot(subset_ndvi, 'g-', label='VPD_52070729')\n",
    "\n",
    "# Create the legend.\n",
    "plt.legend(loc='upper right')\n",
    "plt.ylabel('VPD')"
   ]
  },
  {
   "cell_type": "markdown",
   "metadata": {
    "id": "hymadwXNV4TS"
   },
   "source": [
    "<hr style=\"height:1px;border-top:1px solid #0000FF\" />"
   ]
  },
  {
   "cell_type": "markdown",
   "metadata": {
    "id": "NcMhtocaV4TS"
   },
   "source": [
    "### TIME SUBSETTING"
   ]
  },
  {
   "cell_type": "markdown",
   "metadata": {
    "id": "Gu-XPGmnV4TS"
   },
   "source": [
    "1. Below is an example of `time subsetting` using an instruction that selects a treetalker and displays the time graph by choosing a variable and a time interval."
   ]
  },
  {
   "cell_type": "code",
   "execution_count": null,
   "metadata": {
    "colab": {
     "base_uri": "https://localhost:8080/"
    },
    "executionInfo": {
     "elapsed": 304,
     "status": "ok",
     "timestamp": 1686662474632,
     "user": {
      "displayName": "Valentina Scardigno",
      "userId": "16459297266450545011"
     },
     "user_tz": -120
    },
    "id": "_24vl06yV4TS",
    "outputId": "df7ff768-d797-473d-9e4c-bdd3af24da53"
   },
   "outputs": [],
   "source": [
    "subset = data[data['tt_serial_number'] == '52070729'].loc['2021-03-10 01:00:00':'2021-08-10 01:00:00']['air_temperature']\n",
    "# subset = data[(data['tt_serial_number'] == '52070729') & (data.index.year == 2022)]['air_temperature']\n",
    "subset"
   ]
  },
  {
   "cell_type": "code",
   "execution_count": null,
   "metadata": {
    "colab": {
     "base_uri": "https://localhost:8080/",
     "height": 417
    },
    "executionInfo": {
     "elapsed": 313,
     "status": "ok",
     "timestamp": 1686662490932,
     "user": {
      "displayName": "Valentina Scardigno",
      "userId": "16459297266450545011"
     },
     "user_tz": -120
    },
    "id": "YtgxTYDDV4TS",
    "outputId": "f1810bfd-42e4-4bad-c575-d86c4021d456"
   },
   "outputs": [],
   "source": [
    "getGraph(subset, metric='air_temperature', frequency='hourly')"
   ]
  },
  {
   "cell_type": "markdown",
   "metadata": {
    "id": "z0GHi297V4TS"
   },
   "source": [
    "<hr style=\"height:1px;border-top:1px solid #0000FF\" />"
   ]
  },
  {
   "cell_type": "markdown",
   "metadata": {
    "id": "11acLTyTV4TS"
   },
   "source": [
    "### TIME AGGREGATION"
   ]
  },
  {
   "cell_type": "markdown",
   "metadata": {
    "id": "fiJ6RE0sV4TS"
   },
   "source": [
    "2. Below is an example of `time aggregation` by selecting a treetalker and displaying the table and graph of the daily average, including highest and lowest temperature."
   ]
  },
  {
   "cell_type": "code",
   "execution_count": null,
   "metadata": {
    "colab": {
     "base_uri": "https://localhost:8080/",
     "height": 511
    },
    "executionInfo": {
     "elapsed": 513,
     "status": "ok",
     "timestamp": 1686662700186,
     "user": {
      "displayName": "Valentina Scardigno",
      "userId": "16459297266450545011"
     },
     "user_tz": -120
    },
    "id": "l5YRW321V4TS",
    "outputId": "5e1879e1-0883-41a4-b46c-2e4529de9121"
   },
   "outputs": [],
   "source": [
    "subset2 = data[data['tt_serial_number'] == '52070733']\n",
    "reduced_data2 = reduce(subset2, metric='air_temperature', frequency='daily')\n",
    "reduced_data2"
   ]
  },
  {
   "cell_type": "code",
   "execution_count": null,
   "metadata": {
    "colab": {
     "base_uri": "https://localhost:8080/",
     "height": 417
    },
    "executionInfo": {
     "elapsed": 322,
     "status": "ok",
     "timestamp": 1686662703332,
     "user": {
      "displayName": "Valentina Scardigno",
      "userId": "16459297266450545011"
     },
     "user_tz": -120
    },
    "id": "LCivYYMoV4TS",
    "outputId": "c8384c6e-78fd-48a7-a294-cea414bc9272"
   },
   "outputs": [],
   "source": [
    "getGraph(reduced_data2, metric='air_temperature', frequency='daily')"
   ]
  },
  {
   "cell_type": "markdown",
   "metadata": {
    "id": "wy6mZBNoV4TT"
   },
   "source": [
    "<hr style=\"height:1px;border-top:1px solid #0000FF\" />"
   ]
  },
  {
   "cell_type": "markdown",
   "metadata": {
    "id": "AN8aovPJV4TT"
   },
   "source": [
    "### SPACE AND TIME AGGREGATION"
   ]
  },
  {
   "cell_type": "markdown",
   "metadata": {
    "id": "tYWKtOnyV4TT"
   },
   "source": [
    "3. This is an example of `space and time aggregation`. The table and graph of the daily average temperature in the field is displayed."
   ]
  },
  {
   "cell_type": "code",
   "execution_count": null,
   "metadata": {
    "colab": {
     "base_uri": "https://localhost:8080/",
     "height": 511
    },
    "executionInfo": {
     "elapsed": 361,
     "status": "ok",
     "timestamp": 1686662838802,
     "user": {
      "displayName": "Valentina Scardigno",
      "userId": "16459297266450545011"
     },
     "user_tz": -120
    },
    "id": "IyTzw849V4Tw",
    "outputId": "51733a5a-956a-455d-fa42-f791340afc49",
    "tags": []
   },
   "outputs": [],
   "source": [
    "reduced_data3 = reduce(data, metric='air_temperature', frequency='daily', operation='avg')\n",
    "reduced_data3"
   ]
  },
  {
   "cell_type": "code",
   "execution_count": null,
   "metadata": {
    "colab": {
     "base_uri": "https://localhost:8080/",
     "height": 417
    },
    "executionInfo": {
     "elapsed": 306,
     "status": "ok",
     "timestamp": 1686662841817,
     "user": {
      "displayName": "Valentina Scardigno",
      "userId": "16459297266450545011"
     },
     "user_tz": -120
    },
    "id": "y9qKeO2rV4Tw",
    "outputId": "e2f6a162-bd92-4c10-f0f4-ef1ca8aa0143"
   },
   "outputs": [],
   "source": [
    "getGraph(reduced_data3, metric='air_temperature', frequency='daily')"
   ]
  },
  {
   "cell_type": "markdown",
   "metadata": {
    "id": "Om6wcMk0V4Tw"
   },
   "source": [
    "3b. Another example of `time and space aggregation` by displaying the weekly maximum temperature in the field."
   ]
  },
  {
   "cell_type": "code",
   "execution_count": null,
   "metadata": {
    "colab": {
     "base_uri": "https://localhost:8080/",
     "height": 455
    },
    "executionInfo": {
     "elapsed": 320,
     "status": "ok",
     "timestamp": 1686663059164,
     "user": {
      "displayName": "Valentina Scardigno",
      "userId": "16459297266450545011"
     },
     "user_tz": -120
    },
    "id": "UE3TuW4CV4Tw",
    "outputId": "94234039-f874-448f-aa8a-ccc66835efa1"
   },
   "outputs": [],
   "source": [
    "reduced_data3b = reduce(data, metric='air_temperature', frequency='weekly', operation='max')\n",
    "reduced_data3b"
   ]
  },
  {
   "cell_type": "code",
   "execution_count": null,
   "metadata": {
    "colab": {
     "base_uri": "https://localhost:8080/",
     "height": 417
    },
    "executionInfo": {
     "elapsed": 258,
     "status": "ok",
     "timestamp": 1686663061726,
     "user": {
      "displayName": "Valentina Scardigno",
      "userId": "16459297266450545011"
     },
     "user_tz": -120
    },
    "id": "IelxGpsmV4Tx",
    "outputId": "cfda7641-8cfc-4667-aa05-f41c9dedd611"
   },
   "outputs": [],
   "source": [
    "getGraph(reduced_data3b, metric='air_temperature', frequency='weekly')"
   ]
  },
  {
   "cell_type": "markdown",
   "metadata": {
    "id": "XL9cvKqMV4Tx"
   },
   "source": [
    "<hr style=\"height:1px;border-top:1px solid #0000FF\" />"
   ]
  },
  {
   "cell_type": "markdown",
   "metadata": {
    "id": "u98S-X38V4Tx"
   },
   "source": [
    "4. Here is a further example of displaying the average, highest and lowest weekly VPD (Vapour Pressure Deficit) in the field. Again, this is `space and time aggregation`."
   ]
  },
  {
   "cell_type": "code",
   "execution_count": null,
   "metadata": {
    "colab": {
     "base_uri": "https://localhost:8080/",
     "height": 511
    },
    "executionInfo": {
     "elapsed": 278,
     "status": "ok",
     "timestamp": 1686663105950,
     "user": {
      "displayName": "Valentina Scardigno",
      "userId": "16459297266450545011"
     },
     "user_tz": -120
    },
    "id": "T26-IqTsV4Tx",
    "outputId": "81b017a0-9471-45bb-9722-300ed686ce58"
   },
   "outputs": [],
   "source": [
    "reduced_data4 = reduce(data, metric='VPD', frequency='weekly')\n",
    "reduced_data4"
   ]
  },
  {
   "cell_type": "code",
   "execution_count": null,
   "metadata": {
    "colab": {
     "base_uri": "https://localhost:8080/",
     "height": 417
    },
    "executionInfo": {
     "elapsed": 356,
     "status": "ok",
     "timestamp": 1686663108398,
     "user": {
      "displayName": "Valentina Scardigno",
      "userId": "16459297266450545011"
     },
     "user_tz": -120
    },
    "id": "2TswgDkZV4Tx",
    "outputId": "ff43a52b-a2d8-43cf-e555-465099121bb4"
   },
   "outputs": [],
   "source": [
    "getGraph(reduced_data4, metric='VPD', frequency='weekly')"
   ]
  },
  {
   "cell_type": "markdown",
   "metadata": {
    "id": "RxGE8MFMV4Tx"
   },
   "source": [
    "<hr style=\"height:1px;border-top:1px solid #0000FF\" />"
   ]
  },
  {
   "cell_type": "markdown",
   "metadata": {
    "id": "YD19hARnV4Tx"
   },
   "source": [
    "5. A final example of displaying the average, highest and lowest monthly air humidity in the field."
   ]
  },
  {
   "cell_type": "code",
   "execution_count": null,
   "metadata": {
    "colab": {
     "base_uri": "https://localhost:8080/",
     "height": 607
    },
    "executionInfo": {
     "elapsed": 539,
     "status": "ok",
     "timestamp": 1686663141074,
     "user": {
      "displayName": "Valentina Scardigno",
      "userId": "16459297266450545011"
     },
     "user_tz": -120
    },
    "id": "9-3Cd23bV4Tx",
    "outputId": "db263ea3-18b3-4335-994b-f247a378c278"
   },
   "outputs": [],
   "source": [
    "reduced_data5 = reduce(data, metric='air_humidity', frequency='monthly')\n",
    "reduced_data5"
   ]
  },
  {
   "cell_type": "code",
   "execution_count": null,
   "metadata": {
    "colab": {
     "base_uri": "https://localhost:8080/",
     "height": 417
    },
    "executionInfo": {
     "elapsed": 264,
     "status": "ok",
     "timestamp": 1686663143729,
     "user": {
      "displayName": "Valentina Scardigno",
      "userId": "16459297266450545011"
     },
     "user_tz": -120
    },
    "id": "fhht4HDgV4Tx",
    "outputId": "03055f2f-ff7e-476e-d8ec-530f981784df"
   },
   "outputs": [],
   "source": [
    "getGraph(reduced_data5, metric='air_humidity', frequency='monthly')"
   ]
  },
  {
   "cell_type": "markdown",
   "metadata": {
    "id": "I0A2LaZeV4Tx"
   },
   "source": [
    "<hr style=\"height:1px;border-top:1px solid #0000FF\" />"
   ]
  },
  {
   "cell_type": "markdown",
   "metadata": {},
   "source": [
    "Next: [**TreeTalker Exercises**](TreeTalkerExercises.ipynb)"
   ]
  }
 ],
 "metadata": {
  "colab": {
   "provenance": []
  },
  "kernelspec": {
   "display_name": "Python 3 (ipykernel)",
   "language": "python",
   "name": "python3"
  },
  "language_info": {
   "codemirror_mode": {
    "name": "ipython",
    "version": 3
   },
   "file_extension": ".py",
   "mimetype": "text/x-python",
   "name": "python",
   "nbconvert_exporter": "python",
   "pygments_lexer": "ipython3",
   "version": "3.10.6"
  },
  "widgets": {
   "application/vnd.jupyter.widget-state+json": {
    "1d991a236e5e408a8f93fda19c2f5a47": {
     "model_module": "@jupyter-widgets/base",
     "model_module_version": "1.2.0",
     "model_name": "LayoutModel",
     "state": {
      "_model_module": "@jupyter-widgets/base",
      "_model_module_version": "1.2.0",
      "_model_name": "LayoutModel",
      "_view_count": null,
      "_view_module": "@jupyter-widgets/base",
      "_view_module_version": "1.2.0",
      "_view_name": "LayoutView",
      "align_content": null,
      "align_items": null,
      "align_self": null,
      "border": null,
      "bottom": null,
      "display": null,
      "flex": null,
      "flex_flow": null,
      "grid_area": null,
      "grid_auto_columns": null,
      "grid_auto_flow": null,
      "grid_auto_rows": null,
      "grid_column": null,
      "grid_gap": null,
      "grid_row": null,
      "grid_template_areas": null,
      "grid_template_columns": null,
      "grid_template_rows": null,
      "height": null,
      "justify_content": null,
      "justify_items": null,
      "left": null,
      "margin": null,
      "max_height": null,
      "max_width": null,
      "min_height": null,
      "min_width": null,
      "object_fit": null,
      "object_position": null,
      "order": null,
      "overflow": null,
      "overflow_x": null,
      "overflow_y": null,
      "padding": null,
      "right": null,
      "top": null,
      "visibility": null,
      "width": null
     }
    },
    "31e46bfa2d1d4835be637a3e05c82136": {
     "model_module": "@jupyter-widgets/controls",
     "model_module_version": "1.5.0",
     "model_name": "ButtonModel",
     "state": {
      "_dom_classes": [],
      "_model_module": "@jupyter-widgets/controls",
      "_model_module_version": "1.5.0",
      "_model_name": "ButtonModel",
      "_view_count": null,
      "_view_module": "@jupyter-widgets/controls",
      "_view_module_version": "1.5.0",
      "_view_name": "ButtonView",
      "button_style": "",
      "description": "View map",
      "disabled": false,
      "icon": "",
      "layout": "IPY_MODEL_b5268b8e850e4f2c971b8a24d7553407",
      "style": "IPY_MODEL_7a6010d430994f768cfb8e17d8b492da",
      "tooltip": ""
     }
    },
    "7a6010d430994f768cfb8e17d8b492da": {
     "model_module": "@jupyter-widgets/controls",
     "model_module_version": "1.5.0",
     "model_name": "ButtonStyleModel",
     "state": {
      "_model_module": "@jupyter-widgets/controls",
      "_model_module_version": "1.5.0",
      "_model_name": "ButtonStyleModel",
      "_view_count": null,
      "_view_module": "@jupyter-widgets/base",
      "_view_module_version": "1.2.0",
      "_view_name": "StyleView",
      "button_color": null,
      "font_weight": ""
     }
    },
    "ae5336c38e1d4ee0a6d9492e37a6368f": {
     "model_module": "@jupyter-widgets/controls",
     "model_module_version": "1.5.0",
     "model_name": "DropdownModel",
     "state": {
      "_dom_classes": [],
      "_model_module": "@jupyter-widgets/controls",
      "_model_module_version": "1.5.0",
      "_model_name": "DropdownModel",
      "_options_labels": [
       "Avetrana",
       "Mesagne"
      ],
      "_view_count": null,
      "_view_module": "@jupyter-widgets/controls",
      "_view_module_version": "1.5.0",
      "_view_name": "DropdownView",
      "description": "Site:",
      "description_tooltip": null,
      "disabled": false,
      "index": 0,
      "layout": "IPY_MODEL_1d991a236e5e408a8f93fda19c2f5a47",
      "style": "IPY_MODEL_bf0f4b7f58d14e57bb8085d166e542a2"
     }
    },
    "b5268b8e850e4f2c971b8a24d7553407": {
     "model_module": "@jupyter-widgets/base",
     "model_module_version": "1.2.0",
     "model_name": "LayoutModel",
     "state": {
      "_model_module": "@jupyter-widgets/base",
      "_model_module_version": "1.2.0",
      "_model_name": "LayoutModel",
      "_view_count": null,
      "_view_module": "@jupyter-widgets/base",
      "_view_module_version": "1.2.0",
      "_view_name": "LayoutView",
      "align_content": null,
      "align_items": null,
      "align_self": null,
      "border": null,
      "bottom": null,
      "display": null,
      "flex": null,
      "flex_flow": null,
      "grid_area": null,
      "grid_auto_columns": null,
      "grid_auto_flow": null,
      "grid_auto_rows": null,
      "grid_column": null,
      "grid_gap": null,
      "grid_row": null,
      "grid_template_areas": null,
      "grid_template_columns": null,
      "grid_template_rows": null,
      "height": null,
      "justify_content": null,
      "justify_items": null,
      "left": null,
      "margin": null,
      "max_height": null,
      "max_width": null,
      "min_height": null,
      "min_width": null,
      "object_fit": null,
      "object_position": null,
      "order": null,
      "overflow": null,
      "overflow_x": null,
      "overflow_y": null,
      "padding": null,
      "right": null,
      "top": null,
      "visibility": null,
      "width": null
     }
    },
    "bf0f4b7f58d14e57bb8085d166e542a2": {
     "model_module": "@jupyter-widgets/controls",
     "model_module_version": "1.5.0",
     "model_name": "DescriptionStyleModel",
     "state": {
      "_model_module": "@jupyter-widgets/controls",
      "_model_module_version": "1.5.0",
      "_model_name": "DescriptionStyleModel",
      "_view_count": null,
      "_view_module": "@jupyter-widgets/base",
      "_view_module_version": "1.2.0",
      "_view_name": "StyleView",
      "description_width": ""
     }
    }
   }
  }
 },
 "nbformat": 4,
 "nbformat_minor": 4
}
