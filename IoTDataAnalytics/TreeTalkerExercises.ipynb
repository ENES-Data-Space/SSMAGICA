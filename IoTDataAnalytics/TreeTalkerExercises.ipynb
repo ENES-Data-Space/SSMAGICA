{
 "cells": [
  {
   "cell_type": "markdown",
   "metadata": {
    "id": "ljVbxptTSulp"
   },
   "source": [
    "# <h1><center><font color='green'>**IoT data manipulation and visualisation for olive trees monitoring** - *Exercises*</font></center></h1>"
   ]
  },
  {
   "cell_type": "markdown",
   "metadata": {
    "id": "oGq-_4-BmR9C"
   },
   "source": [
    "After importing all the libraries required to run the notebook, carry out the exercises."
   ]
  },
  {
   "cell_type": "code",
   "execution_count": null,
   "metadata": {},
   "outputs": [],
   "source": [
    "import pandas as ___\n",
    "import ___\n",
    "sys.___.insert(___,___)"
   ]
  },
  {
   "cell_type": "code",
   "execution_count": null,
   "metadata": {},
   "outputs": [],
   "source": [
    "%%capture\n",
    "from ___ import getMap, ___, ___, ___"
   ]
  },
  {
   "cell_type": "markdown",
   "metadata": {},
   "source": [
    "<hr style=\"height:1px;border-top:1px solid #0000FF\" />"
   ]
  },
  {
   "cell_type": "markdown",
   "metadata": {
    "id": "N8xc51VZqDeb"
   },
   "source": [
    "1. Extract the temperature at 12:00 am for all sensors belonging to the Avetrana site and display this information in a table."
   ]
  },
  {
   "cell_type": "code",
   "execution_count": null,
   "metadata": {},
   "outputs": [],
   "source": [
    "data = getTable('___')\n",
    "data"
   ]
  },
  {
   "cell_type": "code",
   "execution_count": null,
   "metadata": {},
   "outputs": [],
   "source": [
    "____ = data[data.___.hour == 12]\n",
    "subset_data"
   ]
  },
  {
   "cell_type": "markdown",
   "metadata": {},
   "source": [
    "<hr style=\"height:1px;border-top:1px solid #0000FF\" />"
   ]
  },
  {
   "cell_type": "markdown",
   "metadata": {
    "id": "g5wTtvnfQ_X5"
   },
   "source": [
    "2. Perform spatial aggregation of the previous values to obtain the hourly average of the temperature measured in the field and display it in a graph."
   ]
  },
  {
   "cell_type": "code",
   "execution_count": null,
   "metadata": {},
   "outputs": [],
   "source": [
    "reduce_data = reduce(___, metric='___', frequency='hourly', operation='___')\n",
    "___"
   ]
  },
  {
   "cell_type": "code",
   "execution_count": null,
   "metadata": {},
   "outputs": [],
   "source": [
    "getGraph(___, metric='air_temperature', frequency='___')"
   ]
  },
  {
   "cell_type": "markdown",
   "metadata": {},
   "source": [
    "<hr style=\"height:1px;border-top:1px solid #0000FF\" />"
   ]
  },
  {
   "cell_type": "markdown",
   "metadata": {
    "id": "kDfxQ0RjoMOj"
   },
   "source": [
    "3. Extract the values of sensor '52070733' in June 2021 and display them in a table. Then, calculate the daily highest, lowest and average VPD (Vapour Pressure Deficit) values and display them in a graph."
   ]
  },
  {
   "cell_type": "code",
   "execution_count": null,
   "metadata": {},
   "outputs": [],
   "source": [
    "subset_data3 = data[(___.index.___ == 6) & (data.___.year == 2021) & (data['___'] == '___')]\n",
    "___"
   ]
  },
  {
   "cell_type": "code",
   "execution_count": null,
   "metadata": {},
   "outputs": [],
   "source": [
    "reduce_data3 = ___(___, metric='VPD', frequency='___')\n",
    "reduce_data3"
   ]
  },
  {
   "cell_type": "code",
   "execution_count": null,
   "metadata": {},
   "outputs": [],
   "source": [
    "getGraph(___, metric='___', frequency='daily')"
   ]
  },
  {
   "cell_type": "markdown",
   "metadata": {},
   "source": [
    "<hr style=\"height:1px;border-top:1px solid #0000FF\" />"
   ]
  },
  {
   "cell_type": "markdown",
   "metadata": {
    "id": "HWv8KEippwtN"
   },
   "source": [
    "4. Extract data at the Avetrana site with air temperature higher than 35°C and air humidity lower than 50%."
   ]
  },
  {
   "cell_type": "code",
   "execution_count": null,
   "metadata": {},
   "outputs": [],
   "source": [
    "subset_data4 = data[(___['air_temperature'] > ___) & (data['___'] < 50)]\n",
    "___"
   ]
  },
  {
   "cell_type": "markdown",
   "metadata": {},
   "source": [
    "<hr style=\"height:1px;border-top:1px solid #0000FF\" />"
   ]
  },
  {
   "cell_type": "markdown",
   "metadata": {
    "id": "SPzucGSWqC2U"
   },
   "source": [
    "5. Calculate the average monthly temperature and sap flow values from previous data and display them in a graph."
   ]
  },
  {
   "cell_type": "code",
   "execution_count": null,
   "metadata": {},
   "outputs": [],
   "source": [
    "reduce_data5 = reduce(___, metric='air_temperature', frequency='___', operation='___')\n",
    "reduce_data5"
   ]
  },
  {
   "cell_type": "code",
   "execution_count": null,
   "metadata": {},
   "outputs": [],
   "source": [
    "reduce_data5a = reduce(___, metric='___', frequency='monthly', operation='___')\n",
    "___"
   ]
  },
  {
   "cell_type": "code",
   "execution_count": null,
   "metadata": {},
   "outputs": [],
   "source": [
    "getGraph(___, metric='air_temperature', frequency='___')"
   ]
  },
  {
   "cell_type": "code",
   "execution_count": null,
   "metadata": {},
   "outputs": [],
   "source": [
    "___(___, metric='sapflow', frequency='___')"
   ]
  },
  {
   "cell_type": "markdown",
   "metadata": {},
   "source": [
    "<hr style=\"height:1px;border-top:1px solid #0000FF\" />"
   ]
  },
  {
   "cell_type": "markdown",
   "metadata": {
    "id": "mobIdtWqRSPu"
   },
   "source": [
    "6. Calculate the average weekly air humidity and VPD values from the data obtained in Step 4 and display them in a graph."
   ]
  },
  {
   "cell_type": "code",
   "execution_count": null,
   "metadata": {},
   "outputs": [],
   "source": [
    "reduce_data6 = reduce(___, metric='air_humidity', frequency='___', operation='___')\n",
    "___"
   ]
  },
  {
   "cell_type": "code",
   "execution_count": null,
   "metadata": {},
   "outputs": [],
   "source": [
    "reduce_data6a = ___(___, metric='___', frequency='___', operation='___')\n",
    "___"
   ]
  },
  {
   "cell_type": "code",
   "execution_count": null,
   "metadata": {},
   "outputs": [],
   "source": [
    "getGraph(___, metric='___', frequency='weekly')"
   ]
  },
  {
   "cell_type": "code",
   "execution_count": null,
   "metadata": {},
   "outputs": [],
   "source": [
    "getGraph(___, metric='VPD', frequency='___')"
   ]
  },
  {
   "cell_type": "markdown",
   "metadata": {},
   "source": [
    "<hr style=\"height:1px;border-top:1px solid #0000FF\" />"
   ]
  },
  {
   "cell_type": "markdown",
   "metadata": {
    "id": "j_cQegnorLAu"
   },
   "source": [
    "7. What correlation do you notice between air temperature and sap flow values? And what about air humidity and VPD values?"
   ]
  },
  {
   "cell_type": "code",
   "execution_count": null,
   "metadata": {},
   "outputs": [],
   "source": []
  },
  {
   "cell_type": "markdown",
   "metadata": {},
   "source": [
    "<hr style=\"height:1px;border-top:1px solid #0000FF\" />"
   ]
  }
 ],
 "metadata": {
  "colab": {
   "collapsed_sections": [],
   "name": "TreeTalkerExercises.ipynb",
   "provenance": []
  },
  "kernelspec": {
   "display_name": "Python 3 (ipykernel)",
   "language": "python",
   "name": "python3"
  },
  "language_info": {
   "codemirror_mode": {
    "name": "ipython",
    "version": 3
   },
   "file_extension": ".py",
   "mimetype": "text/x-python",
   "name": "python",
   "nbconvert_exporter": "python",
   "pygments_lexer": "ipython3",
   "version": "3.10.6"
  }
 },
 "nbformat": 4,
 "nbformat_minor": 4
}
