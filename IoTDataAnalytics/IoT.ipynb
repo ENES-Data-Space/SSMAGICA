{
 "cells": [
  {
   "cell_type": "markdown",
   "metadata": {},
   "source": [
    "# <h1><center><font color='blue'>**Internet of Things - IoT**</font></center></h1>\n",
    "<div class=\"image\">\n",
    "    <img src=\"./images/IoT.jpeg\" style=\"float: left;\" width=\"500\"/>\n",
    "</div>\n",
    "<div class=\"container\" style=\"display: flex; align-items: center; justify-content: center\">\n",
    "    <div class=\"text\" style=\"padding-left: 50px;\">\n",
    "        <p> The <b>Internet of Things (IoT)</b> describes the network of physical objects — <b>“things”</b> — that are embedded with sensors, software, and other technologies for the purpose of connecting and exchanging data with other devices and systems over the internet. These devices range from ordinary household objects (thermostats, household appliances, production plants, cars, ...) to sophisticated industrial tools.\n",
    "        </p>\n",
    "        <p>\n",
    "            The Internet of Things was born from the idea of bringing the objects of our daily experience into the digital world. As mentioned, the IoT is based on the idea of <b>intelligent objects</b> interconnected in order to exchange the information owned, collected and/or processed.\n",
    "        </p> \n",
    "    </div>\n",
    "</div>"
   ]
  },
  {
   "cell_type": "markdown",
   "metadata": {
    "id": "cmbe5ERUV4TL"
   },
   "source": [
    "<hr style=\"height:1px;border-top:1px solid #0000FF\" />"
   ]
  },
  {
   "cell_type": "markdown",
   "metadata": {},
   "source": [
    "## Main Application Areas of the Internet of Things"
   ]
  },
  {
   "cell_type": "markdown",
   "metadata": {},
   "source": [
    "<div class=\"image\">\n",
    "    <img src=\"./images/IoTApplications.png\" style=\"float: left;\" width=\"1000\"/>\n",
    "</div>"
   ]
  },
  {
   "cell_type": "markdown",
   "metadata": {
    "id": "uYyu8nSeV4TO"
   },
   "source": [
    "<hr style=\"height:1px;border-top:1px solid #0000FF\" />"
   ]
  },
  {
   "cell_type": "markdown",
   "metadata": {},
   "source": [
    "## Smart IoT devices : TreeTalker\n",
    "<p>\n",
    "    A TreeTalker sensor system installed in the field allows the in situ, in continuum and in near real time monitoring of parameters related to plant physiology, structural characteristics of crops and microclimatic variability.\n",
    "</p> \n",
    "<p> \n",
    "    The CMCC (ASC Division) contribution to the project aims to develop a real-time in situ monitoring dashboard for user interaction, with the objective to <b>help stakeholders to evaluate the physiological response of olive trees to the infection of Xylella fastidiosa (Xf) subspecies pauca in Salento (Puglia region).</b>\n",
    "</p> "
   ]
  },
  {
   "cell_type": "markdown",
   "metadata": {},
   "source": [
    "<div class=\"image\">\n",
    "    <img src=\"./images/trees.png\" style=\"float: left;\" width=\"156\"/>\n",
    "</div>\n",
    "<div class=\"image\">\n",
    "    <img src=\"./images/sites.png\" style=\"float: left;\" width=\"300\"/>\n",
    "</div>\n",
    "<div class=\"image\">\n",
    "    <img src=\"./images/graphs.png\" style=\"float: left;\" width=\"435\"/>\n",
    "</div>"
   ]
  },
  {
   "cell_type": "markdown",
   "metadata": {},
   "source": [
    "#### TreeTalker Monitoring Architecture\n",
    "This is the TreeTalker Monitoring Architecture, in which there are three main components:\n",
    "- The first is the **Sensor Network** that includes all the sensors installed in the fields; each TreeTalker is connected wireless to the **TT-CLOUD** (thanks to powerful low power chipset LoRa) and the TT-CLOUD is then internet connected to a computer server.\n",
    "- The second component includes all the procedures of **elaboration**, **post-processing** and **storage** of data in a special-purpose database. It includes also the procedures that extract and show relevant data into the **monitoring dashboard**.\n",
    "- The last one consists in the **visualization** of all the graphs that the end-user can inspect in order to retrieve important information and do further analysis.\n",
    "<div class=\"image\">\n",
    "    <img src=\"./images/architecture.png\" style=\"float: left;\" width=\"800\"/>\n",
    "</div>"
   ]
  },
  {
   "cell_type": "markdown",
   "metadata": {
    "id": "uYyu8nSeV4TO"
   },
   "source": [
    "<hr style=\"height:1px;border-top:1px solid #0000FF\" />"
   ]
  },
  {
   "cell_type": "markdown",
   "metadata": {},
   "source": [
    "Next: [**Pandas Dataframe and Visualization Libraries**](PandasDF_Visualization.ipynb)"
   ]
  }
 ],
 "metadata": {
  "colab": {
   "provenance": []
  },
  "kernelspec": {
   "display_name": "Python 3 (ipykernel)",
   "language": "python",
   "name": "python3"
  },
  "language_info": {
   "codemirror_mode": {
    "name": "ipython",
    "version": 3
   },
   "file_extension": ".py",
   "mimetype": "text/x-python",
   "name": "python",
   "nbconvert_exporter": "python",
   "pygments_lexer": "ipython3",
   "version": "3.10.6"
  },
  "widgets": {
   "application/vnd.jupyter.widget-state+json": {
    "1d991a236e5e408a8f93fda19c2f5a47": {
     "model_module": "@jupyter-widgets/base",
     "model_module_version": "1.2.0",
     "model_name": "LayoutModel",
     "state": {
      "_model_module": "@jupyter-widgets/base",
      "_model_module_version": "1.2.0",
      "_model_name": "LayoutModel",
      "_view_count": null,
      "_view_module": "@jupyter-widgets/base",
      "_view_module_version": "1.2.0",
      "_view_name": "LayoutView",
      "align_content": null,
      "align_items": null,
      "align_self": null,
      "border": null,
      "bottom": null,
      "display": null,
      "flex": null,
      "flex_flow": null,
      "grid_area": null,
      "grid_auto_columns": null,
      "grid_auto_flow": null,
      "grid_auto_rows": null,
      "grid_column": null,
      "grid_gap": null,
      "grid_row": null,
      "grid_template_areas": null,
      "grid_template_columns": null,
      "grid_template_rows": null,
      "height": null,
      "justify_content": null,
      "justify_items": null,
      "left": null,
      "margin": null,
      "max_height": null,
      "max_width": null,
      "min_height": null,
      "min_width": null,
      "object_fit": null,
      "object_position": null,
      "order": null,
      "overflow": null,
      "overflow_x": null,
      "overflow_y": null,
      "padding": null,
      "right": null,
      "top": null,
      "visibility": null,
      "width": null
     }
    },
    "31e46bfa2d1d4835be637a3e05c82136": {
     "model_module": "@jupyter-widgets/controls",
     "model_module_version": "1.5.0",
     "model_name": "ButtonModel",
     "state": {
      "_dom_classes": [],
      "_model_module": "@jupyter-widgets/controls",
      "_model_module_version": "1.5.0",
      "_model_name": "ButtonModel",
      "_view_count": null,
      "_view_module": "@jupyter-widgets/controls",
      "_view_module_version": "1.5.0",
      "_view_name": "ButtonView",
      "button_style": "",
      "description": "View map",
      "disabled": false,
      "icon": "",
      "layout": "IPY_MODEL_b5268b8e850e4f2c971b8a24d7553407",
      "style": "IPY_MODEL_7a6010d430994f768cfb8e17d8b492da",
      "tooltip": ""
     }
    },
    "7a6010d430994f768cfb8e17d8b492da": {
     "model_module": "@jupyter-widgets/controls",
     "model_module_version": "1.5.0",
     "model_name": "ButtonStyleModel",
     "state": {
      "_model_module": "@jupyter-widgets/controls",
      "_model_module_version": "1.5.0",
      "_model_name": "ButtonStyleModel",
      "_view_count": null,
      "_view_module": "@jupyter-widgets/base",
      "_view_module_version": "1.2.0",
      "_view_name": "StyleView",
      "button_color": null,
      "font_weight": ""
     }
    },
    "ae5336c38e1d4ee0a6d9492e37a6368f": {
     "model_module": "@jupyter-widgets/controls",
     "model_module_version": "1.5.0",
     "model_name": "DropdownModel",
     "state": {
      "_dom_classes": [],
      "_model_module": "@jupyter-widgets/controls",
      "_model_module_version": "1.5.0",
      "_model_name": "DropdownModel",
      "_options_labels": [
       "Avetrana",
       "Mesagne"
      ],
      "_view_count": null,
      "_view_module": "@jupyter-widgets/controls",
      "_view_module_version": "1.5.0",
      "_view_name": "DropdownView",
      "description": "Site:",
      "description_tooltip": null,
      "disabled": false,
      "index": 0,
      "layout": "IPY_MODEL_1d991a236e5e408a8f93fda19c2f5a47",
      "style": "IPY_MODEL_bf0f4b7f58d14e57bb8085d166e542a2"
     }
    },
    "b5268b8e850e4f2c971b8a24d7553407": {
     "model_module": "@jupyter-widgets/base",
     "model_module_version": "1.2.0",
     "model_name": "LayoutModel",
     "state": {
      "_model_module": "@jupyter-widgets/base",
      "_model_module_version": "1.2.0",
      "_model_name": "LayoutModel",
      "_view_count": null,
      "_view_module": "@jupyter-widgets/base",
      "_view_module_version": "1.2.0",
      "_view_name": "LayoutView",
      "align_content": null,
      "align_items": null,
      "align_self": null,
      "border": null,
      "bottom": null,
      "display": null,
      "flex": null,
      "flex_flow": null,
      "grid_area": null,
      "grid_auto_columns": null,
      "grid_auto_flow": null,
      "grid_auto_rows": null,
      "grid_column": null,
      "grid_gap": null,
      "grid_row": null,
      "grid_template_areas": null,
      "grid_template_columns": null,
      "grid_template_rows": null,
      "height": null,
      "justify_content": null,
      "justify_items": null,
      "left": null,
      "margin": null,
      "max_height": null,
      "max_width": null,
      "min_height": null,
      "min_width": null,
      "object_fit": null,
      "object_position": null,
      "order": null,
      "overflow": null,
      "overflow_x": null,
      "overflow_y": null,
      "padding": null,
      "right": null,
      "top": null,
      "visibility": null,
      "width": null
     }
    },
    "bf0f4b7f58d14e57bb8085d166e542a2": {
     "model_module": "@jupyter-widgets/controls",
     "model_module_version": "1.5.0",
     "model_name": "DescriptionStyleModel",
     "state": {
      "_model_module": "@jupyter-widgets/controls",
      "_model_module_version": "1.5.0",
      "_model_name": "DescriptionStyleModel",
      "_view_count": null,
      "_view_module": "@jupyter-widgets/base",
      "_view_module_version": "1.2.0",
      "_view_name": "StyleView",
      "description_width": ""
     }
    }
   }
  }
 },
 "nbformat": 4,
 "nbformat_minor": 4
}
